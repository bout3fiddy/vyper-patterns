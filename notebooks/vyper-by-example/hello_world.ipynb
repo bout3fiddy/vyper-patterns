{
 "cells": [
  {
   "cell_type": "code",
   "execution_count": 1,
   "metadata": {},
   "outputs": [],
   "source": [
    "%load_ext boa.ipython"
   ]
  },
  {
   "cell_type": "code",
   "execution_count": 2,
   "metadata": {},
   "outputs": [],
   "source": [
    "import sys\n",
    "sys.path.append(\"../scripts\")\n",
    "import utils"
   ]
  },
  {
   "cell_type": "code",
   "execution_count": 3,
   "metadata": {},
   "outputs": [
    {
     "data": {
      "text/plain": [
       "<boa.contract.VyperDeployer at 0x10c0cefe0>"
      ]
     },
     "execution_count": 3,
     "metadata": {},
     "output_type": "execute_result"
    }
   ],
   "source": [
    "%%vyper HelloWorld\n",
    "\n",
    "# Create a string variable that can store maximum 100 characters\n",
    "string: public(String[100])\n",
    "\n",
    "@external\n",
    "def __init__():\n",
    "    self.string = \"Hello World\""
   ]
  },
  {
   "cell_type": "code",
   "execution_count": 4,
   "metadata": {},
   "outputs": [],
   "source": [
    "contract = HelloWorld.deploy()"
   ]
  },
  {
   "cell_type": "code",
   "execution_count": 5,
   "metadata": {},
   "outputs": [
    {
     "name": "stdout",
     "output_type": "stream",
     "text": [
      "Name:  HelloWorld\n",
      "Address:  0x0000000000000000000000000000000000000066\n",
      "Bytecode:  b'`\\x036\\x11a\\x00\\x0cWa\\x00\\x9eV[`\\x005`\\xe0\\x1c4a\\x00\\xa4Wc\\x0fV\\xfd\\x04\\x81\\x18a\\x00\\x9cW`\\x046\\x18a\\x00\\xa4W` \\x80`@R\\x80`@\\x01`\\x00T\\x80\\x82R` \\x82\\x01`\\x00\\x82`\\x1f\\x01`\\x05\\x1c`\\x04\\x81\\x11a\\x00\\xa4W\\x80\\x15a\\x00nW\\x90[\\x80`\\x01\\x01T\\x81`\\x05\\x1b\\x84\\x01R`\\x01\\x01\\x81\\x81\\x18a\\x00WW[PPPP\\x80Q\\x80` \\x83\\x01\\x01`\\x1f\\x82`\\x00\\x03\\x166\\x827PP`\\x1f\\x19`\\x1f\\x82Q` \\x01\\x01\\x16\\x90P\\x81\\x01\\x90P`@\\xf3[P[`\\x00`\\x00\\xfd[`\\x00\\x80\\xfd\\xa1evyper\\x83\\x00\\x03\\x04'\n",
      "Storage layout:\n",
      "\t string with type String[100] at slot 0\n"
     ]
    }
   ],
   "source": [
    "utils.profile_contract(contract)"
   ]
  },
  {
   "cell_type": "code",
   "execution_count": 11,
   "metadata": {},
   "outputs": [
    {
     "name": "stdout",
     "output_type": "stream",
     "text": [
      "vyper.ast.nodes.FunctionDef:\n",
      "     2 # Create a string variable that can store maximum 100 characters\n",
      "---> 3 string: public(String[100])\n",
      "---------------^\n",
      "     4\n",
      "Hello World\n",
      "573\n"
     ]
    }
   ],
   "source": [
    "print(contract.string)\n",
    "print(contract.string())\n",
    "print(contract._computation.get_gas_used())"
   ]
  },
  {
   "cell_type": "code",
   "execution_count": null,
   "metadata": {},
   "outputs": [],
   "source": []
  }
 ],
 "metadata": {
  "kernelspec": {
   "display_name": "Python 3.10.4 ('venv': venv)",
   "language": "python",
   "name": "python3"
  },
  "language_info": {
   "codemirror_mode": {
    "name": "ipython",
    "version": 3
   },
   "file_extension": ".py",
   "mimetype": "text/x-python",
   "name": "python",
   "nbconvert_exporter": "python",
   "pygments_lexer": "ipython3",
   "version": "3.10.4"
  },
  "orig_nbformat": 4,
  "vscode": {
   "interpreter": {
    "hash": "751e78b71ae6c4e7f99e5a52e4ad0f26fa6c55ecb70b8e5871a2429a8223541e"
   }
  }
 },
 "nbformat": 4,
 "nbformat_minor": 2
}
